{
  "nbformat": 4,
  "nbformat_minor": 0,
  "metadata": {
    "colab": {
      "provenance": [],
      "gpuType": "T4"
    },
    "kernelspec": {
      "name": "python3",
      "display_name": "Python 3"
    },
    "language_info": {
      "name": "python"
    },
    "accelerator": "GPU"
  },
  "cells": [
    {
      "cell_type": "markdown",
      "source": [
        "Q1. Data Preprocessing with cuDF vs panda"
      ],
      "metadata": {
        "id": "ecYaV5xsVOsH"
      }
    },
    {
      "cell_type": "code",
      "execution_count": 1,
      "metadata": {
        "colab": {
          "base_uri": "https://localhost:8080/"
        },
        "id": "925uJM1BU8hs",
        "outputId": "f61796d2-7245-487b-9ebf-aefd7090f3ad"
      },
      "outputs": [
        {
          "output_type": "stream",
          "name": "stdout",
          "text": [
            "Mounted at /content/drive\n"
          ]
        }
      ],
      "source": [
        "from google.colab import drive\n",
        "drive.mount('/content/drive')"
      ]
    },
    {
      "cell_type": "code",
      "source": [
        "file_path = '/content/drive/MyDrive/Colab Notebooks/price_paid_records.csv'"
      ],
      "metadata": {
        "id": "9S1v6og5WKBU"
      },
      "execution_count": 2,
      "outputs": []
    },
    {
      "cell_type": "code",
      "source": [
        "import pandas as pd\n",
        "import cudf\n",
        "import numpy as np\n",
        "import time"
      ],
      "metadata": {
        "id": "d07i5g49bp4H"
      },
      "execution_count": 3,
      "outputs": []
    },
    {
      "cell_type": "code",
      "source": [
        "start_time = time.time()\n",
        "pdf = pd.read_csv(file_path)\n",
        "pandas_load_time = time.time() - start_time\n",
        "print(f\"Pandas load time: {pandas_load_time:.4f} seconds\")\n"
      ],
      "metadata": {
        "colab": {
          "base_uri": "https://localhost:8080/"
        },
        "id": "EjbQo-L8jDvP",
        "outputId": "3f1b2d30-efbd-4995-990a-a0abbd68d171"
      },
      "execution_count": 4,
      "outputs": [
        {
          "output_type": "stream",
          "name": "stdout",
          "text": [
            "Pandas load time: 62.5545 seconds\n"
          ]
        }
      ]
    },
    {
      "cell_type": "code",
      "source": [
        "start_time = time.time()\n",
        "gdf = cudf.read_csv(file_path)\n",
        "cudf_load_time = time.time() - start_time\n",
        "print(f\"cuDF load time: {cudf_load_time:.4f} seconds\")\n",
        "\n",
        ""
      ],
      "metadata": {
        "colab": {
          "base_uri": "https://localhost:8080/"
        },
        "id": "tyAZBTivjHJd",
        "outputId": "b9098f16-f963-4031-9e00-1429b9561a4e"
      },
      "execution_count": 5,
      "outputs": [
        {
          "output_type": "stream",
          "name": "stdout",
          "text": [
            "cuDF load time: 12.6596 seconds\n"
          ]
        }
      ]
    },
    {
      "cell_type": "code",
      "source": [
        "start_time = time.time()\n",
        "print(\"Pandas .info():\")\n",
        "pdf.info()\n",
        "print(\"\\nPandas .describe():\")\n",
        "print(pdf.describe())\n",
        "pandas_info_desc_time = time.time() - start_time\n",
        "print(f\"Pandas .info() + .describe(): {pandas_info_desc_time:.4f} seconds\")\n"
      ],
      "metadata": {
        "colab": {
          "base_uri": "https://localhost:8080/"
        },
        "id": "JoHcsIiXjYVT",
        "outputId": "0a22fde1-1e4f-45b3-c214-c5d6574b217e"
      },
      "execution_count": 6,
      "outputs": [
        {
          "output_type": "stream",
          "name": "stdout",
          "text": [
            "Pandas .info():\n",
            "<class 'pandas.core.frame.DataFrame'>\n",
            "RangeIndex: 22489348 entries, 0 to 22489347\n",
            "Data columns (total 11 columns):\n",
            " #   Column                             Dtype \n",
            "---  ------                             ----- \n",
            " 0   Transaction unique identifier      object\n",
            " 1   Price                              int64 \n",
            " 2   Date of Transfer                   object\n",
            " 3   Property Type                      object\n",
            " 4   Old/New                            object\n",
            " 5   Duration                           object\n",
            " 6   Town/City                          object\n",
            " 7   District                           object\n",
            " 8   County                             object\n",
            " 9   PPDCategory Type                   object\n",
            " 10  Record Status - monthly file only  object\n",
            "dtypes: int64(1), object(10)\n",
            "memory usage: 1.8+ GB\n",
            "\n",
            "Pandas .describe():\n",
            "              Price\n",
            "count  2.248935e+07\n",
            "mean   1.782442e+05\n",
            "std    3.903677e+05\n",
            "min    1.000000e+00\n",
            "25%    7.500000e+04\n",
            "50%    1.300000e+05\n",
            "75%    2.100000e+05\n",
            "max    9.890000e+07\n",
            "Pandas .info() + .describe(): 1.2266 seconds\n"
          ]
        }
      ]
    },
    {
      "cell_type": "code",
      "source": [
        "start_time = time.time()\n",
        "print(\"\\ncuDF .info():\")\n",
        "gdf.info()\n",
        "print(\"\\ncuDF .describe():\")\n",
        "print(gdf.describe())\n",
        "cudf_info_desc_time = time.time() - start_time\n",
        "print(f\"cuDF .info() + .describe(): {cudf_info_desc_time:.4f} seconds\")\n"
      ],
      "metadata": {
        "colab": {
          "base_uri": "https://localhost:8080/"
        },
        "id": "ma8gC1g3jcki",
        "outputId": "b7d0e625-4d76-4184-8eaf-54344d0a28ef"
      },
      "execution_count": 7,
      "outputs": [
        {
          "output_type": "stream",
          "name": "stdout",
          "text": [
            "\n",
            "cuDF .info():\n",
            "<class 'cudf.core.dataframe.DataFrame'>\n",
            "RangeIndex: 22489348 entries, 0 to 22489347\n",
            "Data columns (total 11 columns):\n",
            " #   Column                             Dtype\n",
            "---  ------                             -----\n",
            " 0   Transaction unique identifier      object\n",
            " 1   Price                              int64\n",
            " 2   Date of Transfer                   object\n",
            " 3   Property Type                      object\n",
            " 4   Old/New                            object\n",
            " 5   Duration                           object\n",
            " 6   Town/City                          object\n",
            " 7   District                           object\n",
            " 8   County                             object\n",
            " 9   PPDCategory Type                   object\n",
            " 10  Record Status - monthly file only  object\n",
            "dtypes: int64(1), object(10)\n",
            "memory usage: 2.9+ GB\n",
            "\n",
            "cuDF .describe():\n",
            "              Price\n",
            "count  2.248935e+07\n",
            "mean   1.782442e+05\n",
            "std    3.903677e+05\n",
            "min    1.000000e+00\n",
            "25%    7.500000e+04\n",
            "50%    1.300000e+05\n",
            "75%    2.100000e+05\n",
            "max    9.890000e+07\n",
            "cuDF .info() + .describe(): 0.8071 seconds\n"
          ]
        }
      ]
    },
    {
      "cell_type": "code",
      "source": [
        "start_time = time.time()\n",
        "pdf_cleaned = pdf.dropna()\n",
        "pandas_dropna_time = time.time() - start_time\n",
        "print(f\"Pandas dropna: {pandas_dropna_time:.4f} seconds\")\n",
        "\n",
        "# cuDF\n",
        "start_time = time.time()\n",
        "gdf_cleaned = gdf.dropna()\n",
        "cudf_dropna_time = time.time() - start_time\n",
        "print(f\"cuDF dropna: {cudf_dropna_time:.4f} seconds\")\n"
      ],
      "metadata": {
        "colab": {
          "base_uri": "https://localhost:8080/"
        },
        "id": "J-iZR3rRjqhd",
        "outputId": "afd0a1f5-c9c7-49b0-a308-c7a0b5d78886"
      },
      "execution_count": 8,
      "outputs": [
        {
          "output_type": "stream",
          "name": "stdout",
          "text": [
            "Pandas dropna: 26.8187 seconds\n",
            "cuDF dropna: 0.0851 seconds\n"
          ]
        }
      ]
    },
    {
      "cell_type": "code",
      "source": [
        "pdf_cleaned.columns = pdf_cleaned.columns.str.strip()\n",
        "gdf_cleaned.columns = gdf_cleaned.columns.str.strip()\n"
      ],
      "metadata": {
        "id": "eFI7DPhYjxRS"
      },
      "execution_count": 9,
      "outputs": []
    },
    {
      "cell_type": "code",
      "source": [
        "print(\"Pandas Columns:\\n\", pdf_cleaned.columns.tolist())\n",
        "print(\"cuDF Columns:\\n\", gdf_cleaned.columns.tolist())\n"
      ],
      "metadata": {
        "colab": {
          "base_uri": "https://localhost:8080/"
        },
        "id": "C6rYVlKPjy_W",
        "outputId": "fc4a3ba8-c036-4e5b-b37e-c8b1639caa74"
      },
      "execution_count": 10,
      "outputs": [
        {
          "output_type": "stream",
          "name": "stdout",
          "text": [
            "Pandas Columns:\n",
            " ['Transaction unique identifier', 'Price', 'Date of Transfer', 'Property Type', 'Old/New', 'Duration', 'Town/City', 'District', 'County', 'PPDCategory Type', 'Record Status - monthly file only']\n",
            "cuDF Columns:\n",
            " ['Transaction unique identifier', 'Price', 'Date of Transfer', 'Property Type', 'Old/New', 'Duration', 'Town/City', 'District', 'County', 'PPDCategory Type', 'Record Status - monthly file only']\n"
          ]
        }
      ]
    },
    {
      "cell_type": "code",
      "source": [
        "pdf_cleaned.columns = pdf_cleaned.columns.str.strip()\n",
        "gdf_cleaned.columns = gdf_cleaned.columns.str.strip()\n"
      ],
      "metadata": {
        "id": "xZogKU6Zj-g9"
      },
      "execution_count": 11,
      "outputs": []
    },
    {
      "cell_type": "code",
      "source": [
        "print(\" Columns in pandas DataFrame:\")\n",
        "print(pdf_cleaned.columns.tolist())\n"
      ],
      "metadata": {
        "colab": {
          "base_uri": "https://localhost:8080/"
        },
        "id": "aqMW91iwkAma",
        "outputId": "edff691a-7131-4466-b49e-b4fa7130cb96"
      },
      "execution_count": 12,
      "outputs": [
        {
          "output_type": "stream",
          "name": "stdout",
          "text": [
            " Columns in pandas DataFrame:\n",
            "['Transaction unique identifier', 'Price', 'Date of Transfer', 'Property Type', 'Old/New', 'Duration', 'Town/City', 'District', 'County', 'PPDCategory Type', 'Record Status - monthly file only']\n"
          ]
        }
      ]
    },
    {
      "cell_type": "code",
      "source": [
        "import numpy as np\n",
        "import cupy as cp\n",
        "import time"
      ],
      "metadata": {
        "id": "A8jcGkyikHTS"
      },
      "execution_count": 13,
      "outputs": []
    },
    {
      "cell_type": "code",
      "source": [
        "pdf_cleaned.columns = pdf_cleaned.columns.str.strip()\n",
        "gdf_cleaned.columns = gdf_cleaned.columns.str.strip()\n"
      ],
      "metadata": {
        "id": "MnvngA9tkRNN"
      },
      "execution_count": 14,
      "outputs": []
    },
    {
      "cell_type": "code",
      "source": [
        "start_time = time.time()\n",
        "pdf_cleaned['log_price'] = np.log(pdf_cleaned['Price'])\n",
        "pandas_log_time = time.time() - start_time\n",
        "print(f\"Pandas log(Price): {pandas_log_time:.4f} seconds\")\n"
      ],
      "metadata": {
        "colab": {
          "base_uri": "https://localhost:8080/"
        },
        "id": "4xTo_YEnkXp3",
        "outputId": "f812d357-98dd-485e-fd34-323dc68c4b9f"
      },
      "execution_count": 15,
      "outputs": [
        {
          "output_type": "stream",
          "name": "stdout",
          "text": [
            "Pandas log(Price): 0.8315 seconds\n"
          ]
        }
      ]
    },
    {
      "cell_type": "code",
      "source": [
        "start_time = time.time()\n",
        "# Convert cuDF Series to CuPy array and apply log\n",
        "gdf_cleaned['log_price'] = cp.log(gdf_cleaned['Price'].to_cupy())\n",
        "cudf_log_time = time.time() - start_time\n",
        "print(f\"cuDF log(Price): {cudf_log_time:.4f} seconds\")\n",
        "\n",
        ""
      ],
      "metadata": {
        "colab": {
          "base_uri": "https://localhost:8080/"
        },
        "id": "t7jxSr7pkXkm",
        "outputId": "b98fb3a6-3ced-486a-831c-58245cd33cd5"
      },
      "execution_count": 16,
      "outputs": [
        {
          "output_type": "stream",
          "name": "stdout",
          "text": [
            "cuDF log(Price): 0.9033 seconds\n"
          ]
        }
      ]
    },
    {
      "cell_type": "code",
      "source": [
        "print(pdf_cleaned.columns.tolist())\n"
      ],
      "metadata": {
        "colab": {
          "base_uri": "https://localhost:8080/"
        },
        "id": "_HawZ2RkkXio",
        "outputId": "57a6fddf-a6ee-4f65-839e-76c8796287fa"
      },
      "execution_count": 17,
      "outputs": [
        {
          "output_type": "stream",
          "name": "stdout",
          "text": [
            "['Transaction unique identifier', 'Price', 'Date of Transfer', 'Property Type', 'Old/New', 'Duration', 'Town/City', 'District', 'County', 'PPDCategory Type', 'Record Status - monthly file only', 'log_price']\n"
          ]
        }
      ]
    },
    {
      "cell_type": "code",
      "source": [
        "date_column = 'Date of Transfer'\n",
        "cutoff_date = cudf.to_datetime('2019-01-01')\n",
        "\n",
        "gdf_cleaned = gdf_cleaned.dropna(subset=[date_column])\n",
        "gdf_cleaned[date_column] = cudf.to_datetime(gdf_cleaned[date_column])\n",
        "\n",
        "start_time = time.time()\n",
        "gdf_recent = gdf_cleaned[gdf_cleaned[date_column] >= cutoff_date]\n",
        "cudf_filter_time = time.time() - start_time\n",
        "print(f\"cuDF filter (last 5 years): {cudf_filter_time:.4f} seconds\")"
      ],
      "metadata": {
        "colab": {
          "base_uri": "https://localhost:8080/"
        },
        "id": "vnx0C_NXkXUk",
        "outputId": "27adf6d4-dfe8-4f1e-bca8-24dc6e22aa33"
      },
      "execution_count": 22,
      "outputs": [
        {
          "output_type": "stream",
          "name": "stdout",
          "text": [
            "cuDF filter (last 5 years): 0.0336 seconds\n"
          ]
        }
      ]
    },
    {
      "cell_type": "code",
      "source": [
        "gdf_cleaned = gdf_cleaned.dropna(subset=[date_column])\n",
        "gdf_cleaned[date_column] = cudf.to_datetime(gdf_cleaned[date_column])\n",
        "\n",
        "start_time = time.time()\n",
        "gdf_recent = gdf_cleaned[gdf_cleaned[date_column] >= cutoff_date]\n",
        "cudf_filter_time = time.time() - start_time\n",
        "print(f\"cuDF filter (last 5 years): {cudf_filter_time:.4f} seconds\")\n",
        "\n",
        ""
      ],
      "metadata": {
        "colab": {
          "base_uri": "https://localhost:8080/"
        },
        "id": "jynB4YQUlAyR",
        "outputId": "631c1d4d-2565-466a-809d-06c24be4d4ad"
      },
      "execution_count": 23,
      "outputs": [
        {
          "output_type": "stream",
          "name": "stdout",
          "text": [
            "cuDF filter (last 5 years): 0.0041 seconds\n"
          ]
        }
      ]
    },
    {
      "cell_type": "markdown",
      "source": [
        "Q2: Predicting Price Category with cuML vs Scikit-learn"
      ],
      "metadata": {
        "id": "L_ccYNDBlVxn"
      }
    },
    {
      "cell_type": "code",
      "source": [
        "import pandas as pd\n",
        "import numpy as np\n",
        "import time"
      ],
      "metadata": {
        "id": "VUxYjsuOrvMn"
      },
      "execution_count": 1,
      "outputs": []
    },
    {
      "cell_type": "code",
      "source": [
        "file_path = \"/content/drive/MyDrive/Colab Notebooks/price_paid_records.csv\"\n",
        "pdf = pd.read_csv(file_path)\n",
        "\n",
        "pdf.columns = pdf.columns.str.strip()\n",
        "\n",
        "pdf_cleaned = pdf.dropna()\n",
        "\n",
        "pdf_cleaned['Price'] = pdf_cleaned['Price'].astype(float)  # Ensure numeric\n",
        "pdf_cleaned['log_price'] = np.log(pdf_cleaned['Price'])\n"
      ],
      "metadata": {
        "id": "-XVBYBBImEqb"
      },
      "execution_count": 2,
      "outputs": []
    },
    {
      "cell_type": "code",
      "source": [
        "print(pdf_cleaned.columns.tolist())\n"
      ],
      "metadata": {
        "colab": {
          "base_uri": "https://localhost:8080/"
        },
        "id": "LJegfXI3mICS",
        "outputId": "d720a9cd-feae-45cf-bc38-8dd40a695806"
      },
      "execution_count": 3,
      "outputs": [
        {
          "output_type": "stream",
          "name": "stdout",
          "text": [
            "['Transaction unique identifier', 'Price', 'Date of Transfer', 'Property Type', 'Old/New', 'Duration', 'Town/City', 'District', 'County', 'PPDCategory Type', 'Record Status - monthly file only', 'log_price']\n"
          ]
        }
      ]
    },
    {
      "cell_type": "code",
      "source": [
        "from sklearn.preprocessing import LabelEncoder\n",
        "\n",
        "categorical_cols = ['Property Type', 'Town/City', 'County']\n",
        "label_encoders = {}\n",
        "\n",
        "for col in categorical_cols:\n",
        "    pdf_cleaned[col] = pdf_cleaned[col].astype(str).str.strip()\n",
        "    le = LabelEncoder()\n",
        "    pdf_cleaned[col] = le.fit_transform(pdf_cleaned[col])\n",
        "    label_encoders[col] = le\n",
        "\n",
        ""
      ],
      "metadata": {
        "id": "CsoHgecSmeQG"
      },
      "execution_count": 4,
      "outputs": []
    },
    {
      "cell_type": "code",
      "source": [
        "median_price = pdf_cleaned['Price'].median()\n",
        "pdf_cleaned['price_category'] = (pdf_cleaned['Price'] > median_price).astype(int)\n"
      ],
      "metadata": {
        "id": "KK_LhsAqmsgZ"
      },
      "execution_count": 5,
      "outputs": []
    },
    {
      "cell_type": "code",
      "source": [
        "from sklearn.model_selection import train_test_split\n"
      ],
      "metadata": {
        "id": "F0q4pVgpmzCY"
      },
      "execution_count": 6,
      "outputs": []
    },
    {
      "cell_type": "code",
      "source": [
        "features = ['Property Type', 'Town/City', 'County', 'log_price']\n",
        "X = pdf_cleaned[features]\n",
        "y = pdf_cleaned['price_category']\n"
      ],
      "metadata": {
        "id": "YeZSURTkm0BB"
      },
      "execution_count": 7,
      "outputs": []
    },
    {
      "cell_type": "code",
      "source": [
        "X_train, X_test, y_train, y_test = train_test_split(\n",
        "    X, y, test_size=0.2, random_state=42\n",
        ")"
      ],
      "metadata": {
        "id": "yVutHKJim2UK"
      },
      "execution_count": 8,
      "outputs": []
    },
    {
      "cell_type": "code",
      "source": [
        "sampled_df = pdf_cleaned.sample(n=50000, random_state=42)"
      ],
      "metadata": {
        "id": "jE_BHWQfm45F"
      },
      "execution_count": 9,
      "outputs": []
    },
    {
      "cell_type": "code",
      "source": [
        "features = ['Property Type', 'Town/City', 'County', 'log_price']\n",
        "X = sampled_df[features]\n",
        "y = sampled_df['price_category']\n"
      ],
      "metadata": {
        "id": "xpY7NPFpm-Rv"
      },
      "execution_count": 10,
      "outputs": []
    },
    {
      "cell_type": "code",
      "source": [
        "from sklearn.model_selection import train_test_split\n"
      ],
      "metadata": {
        "id": "M4kDI6K4nQ8L"
      },
      "execution_count": 11,
      "outputs": []
    },
    {
      "cell_type": "code",
      "source": [
        "features = ['Property Type', 'Town/City', 'County', 'log_price']\n",
        "X = sampled_df[features]\n",
        "y = sampled_df['price_category']\n",
        "\n",
        "X_train, X_test, y_train, y_test = train_test_split(\n",
        "    X, y, test_size=0.2, random_state=42\n",
        ")"
      ],
      "metadata": {
        "id": "HbFdXMOtnXPW"
      },
      "execution_count": 12,
      "outputs": []
    },
    {
      "cell_type": "code",
      "source": [
        "from sklearn.ensemble import RandomForestClassifier\n",
        "from sklearn.metrics import accuracy_score, f1_score\n",
        "import time\n"
      ],
      "metadata": {
        "id": "Fdf1teSsnY4R"
      },
      "execution_count": 13,
      "outputs": []
    },
    {
      "cell_type": "code",
      "source": [
        "start_time = time.time()\n",
        "rf_sklearn = RandomForestClassifier(n_estimators=20, max_depth=10, random_state=42)\n",
        "rf_sklearn.fit(X_train, y_train)\n",
        "sklearn_train_time = time.time() - start_time\n"
      ],
      "metadata": {
        "id": "5sZallJqnbLG"
      },
      "execution_count": 14,
      "outputs": []
    },
    {
      "cell_type": "code",
      "source": [
        "start_time = time.time()\n",
        "y_pred_sklearn = rf_sklearn.predict(X_test)\n",
        "sklearn_predict_time = time.time() - start_time\n"
      ],
      "metadata": {
        "id": "pzgIUt0RneBd"
      },
      "execution_count": 15,
      "outputs": []
    },
    {
      "cell_type": "code",
      "source": [
        "sklearn_acc = accuracy_score(y_test, y_pred_sklearn)\n",
        "sklearn_f1 = f1_score(y_test, y_pred_sklearn)\n",
        "\n",
        "print(\"✅ Scikit-learn done\")\n"
      ],
      "metadata": {
        "colab": {
          "base_uri": "https://localhost:8080/"
        },
        "id": "kpbtw13unfv_",
        "outputId": "8b321bd3-8d65-4fea-c414-6d6feb60500d"
      },
      "execution_count": 16,
      "outputs": [
        {
          "output_type": "stream",
          "name": "stdout",
          "text": [
            "✅ Scikit-learn done\n"
          ]
        }
      ]
    },
    {
      "cell_type": "code",
      "source": [
        "import cudf\n"
      ],
      "metadata": {
        "id": "4hF4Meqlnho_"
      },
      "execution_count": 17,
      "outputs": []
    },
    {
      "cell_type": "code",
      "source": [
        "gdf = cudf.from_pandas(sampled_df)\n"
      ],
      "metadata": {
        "id": "yAFyu8mVnjzu"
      },
      "execution_count": 18,
      "outputs": []
    },
    {
      "cell_type": "code",
      "source": [
        "from cuml.model_selection import train_test_split as cu_train_test_split\n",
        "\n",
        "X_cu = gdf[features]\n",
        "y_cu = gdf['price_category']\n",
        "\n",
        "X_train_cu, X_test_cu, y_train_cu, y_test_cu = cu_train_test_split(\n",
        "    X_cu, y_cu, test_size=0.2, random_state=42\n",
        ")"
      ],
      "metadata": {
        "id": "HGHhm-6Inl34"
      },
      "execution_count": 22,
      "outputs": []
    },
    {
      "cell_type": "code",
      "source": [
        "from cuml.ensemble import RandomForestClassifier as cuRF\n",
        "\n",
        "rf_cuml = cuRF(n_estimators=20, max_depth=10)\n",
        "rf_cuml.fit(X_train_cu, y_train_cu)"
      ],
      "metadata": {
        "colab": {
          "base_uri": "https://localhost:8080/",
          "height": 80
        },
        "id": "Uvra0GN2nodj",
        "outputId": "5aa60382-d6e7-4844-857b-ff247999b641"
      },
      "execution_count": 25,
      "outputs": [
        {
          "output_type": "execute_result",
          "data": {
            "text/plain": [
              "RandomForestClassifier()"
            ],
            "text/html": [
              "<style>#sk-container-id-1 {\n",
              "  /* Definition of color scheme common for light and dark mode */\n",
              "  --sklearn-color-text: #000;\n",
              "  --sklearn-color-text-muted: #666;\n",
              "  --sklearn-color-line: gray;\n",
              "  /* Definition of color scheme for unfitted estimators */\n",
              "  --sklearn-color-unfitted-level-0: #fff5e6;\n",
              "  --sklearn-color-unfitted-level-1: #f6e4d2;\n",
              "  --sklearn-color-unfitted-level-2: #ffe0b3;\n",
              "  --sklearn-color-unfitted-level-3: chocolate;\n",
              "  /* Definition of color scheme for fitted estimators */\n",
              "  --sklearn-color-fitted-level-0: #f0f8ff;\n",
              "  --sklearn-color-fitted-level-1: #d4ebff;\n",
              "  --sklearn-color-fitted-level-2: #b3dbfd;\n",
              "  --sklearn-color-fitted-level-3: cornflowerblue;\n",
              "\n",
              "  /* Specific color for light theme */\n",
              "  --sklearn-color-text-on-default-background: var(--sg-text-color, var(--theme-code-foreground, var(--jp-content-font-color1, black)));\n",
              "  --sklearn-color-background: var(--sg-background-color, var(--theme-background, var(--jp-layout-color0, white)));\n",
              "  --sklearn-color-border-box: var(--sg-text-color, var(--theme-code-foreground, var(--jp-content-font-color1, black)));\n",
              "  --sklearn-color-icon: #696969;\n",
              "\n",
              "  @media (prefers-color-scheme: dark) {\n",
              "    /* Redefinition of color scheme for dark theme */\n",
              "    --sklearn-color-text-on-default-background: var(--sg-text-color, var(--theme-code-foreground, var(--jp-content-font-color1, white)));\n",
              "    --sklearn-color-background: var(--sg-background-color, var(--theme-background, var(--jp-layout-color0, #111)));\n",
              "    --sklearn-color-border-box: var(--sg-text-color, var(--theme-code-foreground, var(--jp-content-font-color1, white)));\n",
              "    --sklearn-color-icon: #878787;\n",
              "  }\n",
              "}\n",
              "\n",
              "#sk-container-id-1 {\n",
              "  color: var(--sklearn-color-text);\n",
              "}\n",
              "\n",
              "#sk-container-id-1 pre {\n",
              "  padding: 0;\n",
              "}\n",
              "\n",
              "#sk-container-id-1 input.sk-hidden--visually {\n",
              "  border: 0;\n",
              "  clip: rect(1px 1px 1px 1px);\n",
              "  clip: rect(1px, 1px, 1px, 1px);\n",
              "  height: 1px;\n",
              "  margin: -1px;\n",
              "  overflow: hidden;\n",
              "  padding: 0;\n",
              "  position: absolute;\n",
              "  width: 1px;\n",
              "}\n",
              "\n",
              "#sk-container-id-1 div.sk-dashed-wrapped {\n",
              "  border: 1px dashed var(--sklearn-color-line);\n",
              "  margin: 0 0.4em 0.5em 0.4em;\n",
              "  box-sizing: border-box;\n",
              "  padding-bottom: 0.4em;\n",
              "  background-color: var(--sklearn-color-background);\n",
              "}\n",
              "\n",
              "#sk-container-id-1 div.sk-container {\n",
              "  /* jupyter's `normalize.less` sets `[hidden] { display: none; }`\n",
              "     but bootstrap.min.css set `[hidden] { display: none !important; }`\n",
              "     so we also need the `!important` here to be able to override the\n",
              "     default hidden behavior on the sphinx rendered scikit-learn.org.\n",
              "     See: https://github.com/scikit-learn/scikit-learn/issues/21755 */\n",
              "  display: inline-block !important;\n",
              "  position: relative;\n",
              "}\n",
              "\n",
              "#sk-container-id-1 div.sk-text-repr-fallback {\n",
              "  display: none;\n",
              "}\n",
              "\n",
              "div.sk-parallel-item,\n",
              "div.sk-serial,\n",
              "div.sk-item {\n",
              "  /* draw centered vertical line to link estimators */\n",
              "  background-image: linear-gradient(var(--sklearn-color-text-on-default-background), var(--sklearn-color-text-on-default-background));\n",
              "  background-size: 2px 100%;\n",
              "  background-repeat: no-repeat;\n",
              "  background-position: center center;\n",
              "}\n",
              "\n",
              "/* Parallel-specific style estimator block */\n",
              "\n",
              "#sk-container-id-1 div.sk-parallel-item::after {\n",
              "  content: \"\";\n",
              "  width: 100%;\n",
              "  border-bottom: 2px solid var(--sklearn-color-text-on-default-background);\n",
              "  flex-grow: 1;\n",
              "}\n",
              "\n",
              "#sk-container-id-1 div.sk-parallel {\n",
              "  display: flex;\n",
              "  align-items: stretch;\n",
              "  justify-content: center;\n",
              "  background-color: var(--sklearn-color-background);\n",
              "  position: relative;\n",
              "}\n",
              "\n",
              "#sk-container-id-1 div.sk-parallel-item {\n",
              "  display: flex;\n",
              "  flex-direction: column;\n",
              "}\n",
              "\n",
              "#sk-container-id-1 div.sk-parallel-item:first-child::after {\n",
              "  align-self: flex-end;\n",
              "  width: 50%;\n",
              "}\n",
              "\n",
              "#sk-container-id-1 div.sk-parallel-item:last-child::after {\n",
              "  align-self: flex-start;\n",
              "  width: 50%;\n",
              "}\n",
              "\n",
              "#sk-container-id-1 div.sk-parallel-item:only-child::after {\n",
              "  width: 0;\n",
              "}\n",
              "\n",
              "/* Serial-specific style estimator block */\n",
              "\n",
              "#sk-container-id-1 div.sk-serial {\n",
              "  display: flex;\n",
              "  flex-direction: column;\n",
              "  align-items: center;\n",
              "  background-color: var(--sklearn-color-background);\n",
              "  padding-right: 1em;\n",
              "  padding-left: 1em;\n",
              "}\n",
              "\n",
              "\n",
              "/* Toggleable style: style used for estimator/Pipeline/ColumnTransformer box that is\n",
              "clickable and can be expanded/collapsed.\n",
              "- Pipeline and ColumnTransformer use this feature and define the default style\n",
              "- Estimators will overwrite some part of the style using the `sk-estimator` class\n",
              "*/\n",
              "\n",
              "/* Pipeline and ColumnTransformer style (default) */\n",
              "\n",
              "#sk-container-id-1 div.sk-toggleable {\n",
              "  /* Default theme specific background. It is overwritten whether we have a\n",
              "  specific estimator or a Pipeline/ColumnTransformer */\n",
              "  background-color: var(--sklearn-color-background);\n",
              "}\n",
              "\n",
              "/* Toggleable label */\n",
              "#sk-container-id-1 label.sk-toggleable__label {\n",
              "  cursor: pointer;\n",
              "  display: flex;\n",
              "  width: 100%;\n",
              "  margin-bottom: 0;\n",
              "  padding: 0.5em;\n",
              "  box-sizing: border-box;\n",
              "  text-align: center;\n",
              "  align-items: start;\n",
              "  justify-content: space-between;\n",
              "  gap: 0.5em;\n",
              "}\n",
              "\n",
              "#sk-container-id-1 label.sk-toggleable__label .caption {\n",
              "  font-size: 0.6rem;\n",
              "  font-weight: lighter;\n",
              "  color: var(--sklearn-color-text-muted);\n",
              "}\n",
              "\n",
              "#sk-container-id-1 label.sk-toggleable__label-arrow:before {\n",
              "  /* Arrow on the left of the label */\n",
              "  content: \"▸\";\n",
              "  float: left;\n",
              "  margin-right: 0.25em;\n",
              "  color: var(--sklearn-color-icon);\n",
              "}\n",
              "\n",
              "#sk-container-id-1 label.sk-toggleable__label-arrow:hover:before {\n",
              "  color: var(--sklearn-color-text);\n",
              "}\n",
              "\n",
              "/* Toggleable content - dropdown */\n",
              "\n",
              "#sk-container-id-1 div.sk-toggleable__content {\n",
              "  max-height: 0;\n",
              "  max-width: 0;\n",
              "  overflow: hidden;\n",
              "  text-align: left;\n",
              "  /* unfitted */\n",
              "  background-color: var(--sklearn-color-unfitted-level-0);\n",
              "}\n",
              "\n",
              "#sk-container-id-1 div.sk-toggleable__content.fitted {\n",
              "  /* fitted */\n",
              "  background-color: var(--sklearn-color-fitted-level-0);\n",
              "}\n",
              "\n",
              "#sk-container-id-1 div.sk-toggleable__content pre {\n",
              "  margin: 0.2em;\n",
              "  border-radius: 0.25em;\n",
              "  color: var(--sklearn-color-text);\n",
              "  /* unfitted */\n",
              "  background-color: var(--sklearn-color-unfitted-level-0);\n",
              "}\n",
              "\n",
              "#sk-container-id-1 div.sk-toggleable__content.fitted pre {\n",
              "  /* unfitted */\n",
              "  background-color: var(--sklearn-color-fitted-level-0);\n",
              "}\n",
              "\n",
              "#sk-container-id-1 input.sk-toggleable__control:checked~div.sk-toggleable__content {\n",
              "  /* Expand drop-down */\n",
              "  max-height: 200px;\n",
              "  max-width: 100%;\n",
              "  overflow: auto;\n",
              "}\n",
              "\n",
              "#sk-container-id-1 input.sk-toggleable__control:checked~label.sk-toggleable__label-arrow:before {\n",
              "  content: \"▾\";\n",
              "}\n",
              "\n",
              "/* Pipeline/ColumnTransformer-specific style */\n",
              "\n",
              "#sk-container-id-1 div.sk-label input.sk-toggleable__control:checked~label.sk-toggleable__label {\n",
              "  color: var(--sklearn-color-text);\n",
              "  background-color: var(--sklearn-color-unfitted-level-2);\n",
              "}\n",
              "\n",
              "#sk-container-id-1 div.sk-label.fitted input.sk-toggleable__control:checked~label.sk-toggleable__label {\n",
              "  background-color: var(--sklearn-color-fitted-level-2);\n",
              "}\n",
              "\n",
              "/* Estimator-specific style */\n",
              "\n",
              "/* Colorize estimator box */\n",
              "#sk-container-id-1 div.sk-estimator input.sk-toggleable__control:checked~label.sk-toggleable__label {\n",
              "  /* unfitted */\n",
              "  background-color: var(--sklearn-color-unfitted-level-2);\n",
              "}\n",
              "\n",
              "#sk-container-id-1 div.sk-estimator.fitted input.sk-toggleable__control:checked~label.sk-toggleable__label {\n",
              "  /* fitted */\n",
              "  background-color: var(--sklearn-color-fitted-level-2);\n",
              "}\n",
              "\n",
              "#sk-container-id-1 div.sk-label label.sk-toggleable__label,\n",
              "#sk-container-id-1 div.sk-label label {\n",
              "  /* The background is the default theme color */\n",
              "  color: var(--sklearn-color-text-on-default-background);\n",
              "}\n",
              "\n",
              "/* On hover, darken the color of the background */\n",
              "#sk-container-id-1 div.sk-label:hover label.sk-toggleable__label {\n",
              "  color: var(--sklearn-color-text);\n",
              "  background-color: var(--sklearn-color-unfitted-level-2);\n",
              "}\n",
              "\n",
              "/* Label box, darken color on hover, fitted */\n",
              "#sk-container-id-1 div.sk-label.fitted:hover label.sk-toggleable__label.fitted {\n",
              "  color: var(--sklearn-color-text);\n",
              "  background-color: var(--sklearn-color-fitted-level-2);\n",
              "}\n",
              "\n",
              "/* Estimator label */\n",
              "\n",
              "#sk-container-id-1 div.sk-label label {\n",
              "  font-family: monospace;\n",
              "  font-weight: bold;\n",
              "  display: inline-block;\n",
              "  line-height: 1.2em;\n",
              "}\n",
              "\n",
              "#sk-container-id-1 div.sk-label-container {\n",
              "  text-align: center;\n",
              "}\n",
              "\n",
              "/* Estimator-specific */\n",
              "#sk-container-id-1 div.sk-estimator {\n",
              "  font-family: monospace;\n",
              "  border: 1px dotted var(--sklearn-color-border-box);\n",
              "  border-radius: 0.25em;\n",
              "  box-sizing: border-box;\n",
              "  margin-bottom: 0.5em;\n",
              "  /* unfitted */\n",
              "  background-color: var(--sklearn-color-unfitted-level-0);\n",
              "}\n",
              "\n",
              "#sk-container-id-1 div.sk-estimator.fitted {\n",
              "  /* fitted */\n",
              "  background-color: var(--sklearn-color-fitted-level-0);\n",
              "}\n",
              "\n",
              "/* on hover */\n",
              "#sk-container-id-1 div.sk-estimator:hover {\n",
              "  /* unfitted */\n",
              "  background-color: var(--sklearn-color-unfitted-level-2);\n",
              "}\n",
              "\n",
              "#sk-container-id-1 div.sk-estimator.fitted:hover {\n",
              "  /* fitted */\n",
              "  background-color: var(--sklearn-color-fitted-level-2);\n",
              "}\n",
              "\n",
              "/* Specification for estimator info (e.g. \"i\" and \"?\") */\n",
              "\n",
              "/* Common style for \"i\" and \"?\" */\n",
              "\n",
              ".sk-estimator-doc-link,\n",
              "a:link.sk-estimator-doc-link,\n",
              "a:visited.sk-estimator-doc-link {\n",
              "  float: right;\n",
              "  font-size: smaller;\n",
              "  line-height: 1em;\n",
              "  font-family: monospace;\n",
              "  background-color: var(--sklearn-color-background);\n",
              "  border-radius: 1em;\n",
              "  height: 1em;\n",
              "  width: 1em;\n",
              "  text-decoration: none !important;\n",
              "  margin-left: 0.5em;\n",
              "  text-align: center;\n",
              "  /* unfitted */\n",
              "  border: var(--sklearn-color-unfitted-level-1) 1pt solid;\n",
              "  color: var(--sklearn-color-unfitted-level-1);\n",
              "}\n",
              "\n",
              ".sk-estimator-doc-link.fitted,\n",
              "a:link.sk-estimator-doc-link.fitted,\n",
              "a:visited.sk-estimator-doc-link.fitted {\n",
              "  /* fitted */\n",
              "  border: var(--sklearn-color-fitted-level-1) 1pt solid;\n",
              "  color: var(--sklearn-color-fitted-level-1);\n",
              "}\n",
              "\n",
              "/* On hover */\n",
              "div.sk-estimator:hover .sk-estimator-doc-link:hover,\n",
              ".sk-estimator-doc-link:hover,\n",
              "div.sk-label-container:hover .sk-estimator-doc-link:hover,\n",
              ".sk-estimator-doc-link:hover {\n",
              "  /* unfitted */\n",
              "  background-color: var(--sklearn-color-unfitted-level-3);\n",
              "  color: var(--sklearn-color-background);\n",
              "  text-decoration: none;\n",
              "}\n",
              "\n",
              "div.sk-estimator.fitted:hover .sk-estimator-doc-link.fitted:hover,\n",
              ".sk-estimator-doc-link.fitted:hover,\n",
              "div.sk-label-container:hover .sk-estimator-doc-link.fitted:hover,\n",
              ".sk-estimator-doc-link.fitted:hover {\n",
              "  /* fitted */\n",
              "  background-color: var(--sklearn-color-fitted-level-3);\n",
              "  color: var(--sklearn-color-background);\n",
              "  text-decoration: none;\n",
              "}\n",
              "\n",
              "/* Span, style for the box shown on hovering the info icon */\n",
              ".sk-estimator-doc-link span {\n",
              "  display: none;\n",
              "  z-index: 9999;\n",
              "  position: relative;\n",
              "  font-weight: normal;\n",
              "  right: .2ex;\n",
              "  padding: .5ex;\n",
              "  margin: .5ex;\n",
              "  width: min-content;\n",
              "  min-width: 20ex;\n",
              "  max-width: 50ex;\n",
              "  color: var(--sklearn-color-text);\n",
              "  box-shadow: 2pt 2pt 4pt #999;\n",
              "  /* unfitted */\n",
              "  background: var(--sklearn-color-unfitted-level-0);\n",
              "  border: .5pt solid var(--sklearn-color-unfitted-level-3);\n",
              "}\n",
              "\n",
              ".sk-estimator-doc-link.fitted span {\n",
              "  /* fitted */\n",
              "  background: var(--sklearn-color-fitted-level-0);\n",
              "  border: var(--sklearn-color-fitted-level-3);\n",
              "}\n",
              "\n",
              ".sk-estimator-doc-link:hover span {\n",
              "  display: block;\n",
              "}\n",
              "\n",
              "/* \"?\"-specific style due to the `<a>` HTML tag */\n",
              "\n",
              "#sk-container-id-1 a.estimator_doc_link {\n",
              "  float: right;\n",
              "  font-size: 1rem;\n",
              "  line-height: 1em;\n",
              "  font-family: monospace;\n",
              "  background-color: var(--sklearn-color-background);\n",
              "  border-radius: 1rem;\n",
              "  height: 1rem;\n",
              "  width: 1rem;\n",
              "  text-decoration: none;\n",
              "  /* unfitted */\n",
              "  color: var(--sklearn-color-unfitted-level-1);\n",
              "  border: var(--sklearn-color-unfitted-level-1) 1pt solid;\n",
              "}\n",
              "\n",
              "#sk-container-id-1 a.estimator_doc_link.fitted {\n",
              "  /* fitted */\n",
              "  border: var(--sklearn-color-fitted-level-1) 1pt solid;\n",
              "  color: var(--sklearn-color-fitted-level-1);\n",
              "}\n",
              "\n",
              "/* On hover */\n",
              "#sk-container-id-1 a.estimator_doc_link:hover {\n",
              "  /* unfitted */\n",
              "  background-color: var(--sklearn-color-unfitted-level-3);\n",
              "  color: var(--sklearn-color-background);\n",
              "  text-decoration: none;\n",
              "}\n",
              "\n",
              "#sk-container-id-1 a.estimator_doc_link.fitted:hover {\n",
              "  /* fitted */\n",
              "  background-color: var(--sklearn-color-fitted-level-3);\n",
              "}\n",
              "</style><div id=\"sk-container-id-1\" class=\"sk-top-container\"><div class=\"sk-text-repr-fallback\"><pre>RandomForestClassifier()</pre><b>In a Jupyter environment, please rerun this cell to show the HTML representation or trust the notebook. <br />On GitHub, the HTML representation is unable to render, please try loading this page with nbviewer.org.</b></div><div class=\"sk-container\" hidden><div class=\"sk-item\"><div class=\"sk-estimator fitted sk-toggleable\"><input class=\"sk-toggleable__control sk-hidden--visually\" id=\"sk-estimator-id-1\" type=\"checkbox\" checked><label for=\"sk-estimator-id-1\" class=\"sk-toggleable__label fitted sk-toggleable__label-arrow\"><div><div>RandomForestClassifier</div></div><div><span class=\"sk-estimator-doc-link fitted\">i<span>Fitted</span></span></div></label><div class=\"sk-toggleable__content fitted\"><pre>RandomForestClassifier()</pre></div> </div></div></div></div>"
            ]
          },
          "metadata": {},
          "execution_count": 25
        }
      ]
    },
    {
      "cell_type": "code",
      "source": [
        "y_pred_cuml = rf_cuml.predict(X_test_cu)\n"
      ],
      "metadata": {
        "id": "-sYxpkcbn27M"
      },
      "execution_count": 26,
      "outputs": []
    },
    {
      "cell_type": "code",
      "source": [
        "from sklearn.metrics import accuracy_score, f1_score\n"
      ],
      "metadata": {
        "id": "Gjhp7vL5oB4_"
      },
      "execution_count": 27,
      "outputs": []
    },
    {
      "cell_type": "code",
      "source": [
        "cuml_acc = accuracy_score(y_test_cu.to_numpy(), y_pred_cuml.to_numpy())\n",
        "cuml_f1 = f1_score(y_test_cu.to_numpy(), y_pred_cuml.to_numpy())\n"
      ],
      "metadata": {
        "id": "UgWucy3GoD4z"
      },
      "execution_count": 28,
      "outputs": []
    },
    {
      "cell_type": "markdown",
      "source": [
        "Q3: Graph Analysis with cuGraph vs NetworkX\n"
      ],
      "metadata": {
        "id": "6hL0gh3uoQuu"
      }
    },
    {
      "cell_type": "code",
      "source": [
        "import pandas as pd\n",
        "import numpy as np\n"
      ],
      "metadata": {
        "id": "w-wjKCzAoK3N"
      },
      "execution_count": 1,
      "outputs": []
    },
    {
      "cell_type": "code",
      "source": [
        "file_path = \"/content/drive/MyDrive/Colab Notebooks/price_paid_records.csv\"\n",
        "pdf = pd.read_csv(file_path)\n"
      ],
      "metadata": {
        "id": "MnePwX2woWxc"
      },
      "execution_count": 2,
      "outputs": []
    },
    {
      "cell_type": "code",
      "source": [
        "pdf.columns = pdf.columns.str.strip()\n",
        "\n",
        "pdf_cleaned = pdf.dropna()\n",
        "\n",
        "pdf_cleaned['Price'] = pdf_cleaned['Price'].astype(float)\n",
        "\n",
        "pdf_cleaned['log_price'] = np.log(pdf_cleaned['Price'])\n"
      ],
      "metadata": {
        "id": "zt5PYuRuoZCV"
      },
      "execution_count": 3,
      "outputs": []
    },
    {
      "cell_type": "code",
      "source": [
        "sampled_df = pdf_cleaned.sample(n=50000, random_state=42)\n"
      ],
      "metadata": {
        "id": "iEqZoarfowVc"
      },
      "execution_count": 4,
      "outputs": []
    },
    {
      "cell_type": "code",
      "source": [
        "df = sampled_df.copy()\n"
      ],
      "metadata": {
        "id": "zp3bsAyho1yR"
      },
      "execution_count": 5,
      "outputs": []
    },
    {
      "cell_type": "code",
      "source": [
        "df['postcode'] = df['Transaction unique identifier'].str.extract(r'([A-Z]{1,2}\\d{1,2})', expand=False)\n"
      ],
      "metadata": {
        "id": "OiRFWKodo3x8"
      },
      "execution_count": 6,
      "outputs": []
    },
    {
      "cell_type": "code",
      "source": [
        "print(df.columns)\n",
        "print(df[['Transaction unique identifier', 'postcode']].head())\n"
      ],
      "metadata": {
        "colab": {
          "base_uri": "https://localhost:8080/"
        },
        "id": "_2Hjt2Opo57m",
        "outputId": "844cac47-c2b7-4aef-978c-7ccd0d572882"
      },
      "execution_count": 7,
      "outputs": [
        {
          "output_type": "stream",
          "name": "stdout",
          "text": [
            "Index(['Transaction unique identifier', 'Price', 'Date of Transfer',\n",
            "       'Property Type', 'Old/New', 'Duration', 'Town/City', 'District',\n",
            "       'County', 'PPDCategory Type', 'Record Status - monthly file only',\n",
            "       'log_price', 'postcode'],\n",
            "      dtype='object')\n",
            "                   Transaction unique identifier postcode\n",
            "13893637  {6146E264-E0D9-4C53-ACC8-48DB3954F80B}      E26\n",
            "18522801  {26EBD75A-D90F-411C-85E5-4D56F0F66484}     BD75\n",
            "7259339   {E700C723-9426-4924-8D3F-1730EC3B2BCC}      E70\n",
            "2129082   {677E0E46-8E8F-4560-AD93-07F72D5AE6D5}       E0\n",
            "3112615   {E2387F76-24EC-4A7E-8A27-220E500F0DC2}      E23\n"
          ]
        }
      ]
    },
    {
      "cell_type": "code",
      "source": [
        "from itertools import combinations\n",
        "\n",
        "def generate_edges(group_col):\n",
        "    edges = []\n",
        "    for _, group in df.groupby(group_col):\n",
        "        postcodes = group['postcode'].unique()\n",
        "        edges.extend(combinations(postcodes, 2))\n",
        "    return edges\n",
        "\n",
        "town_edges = generate_edges('Town/City')\n",
        "county_edges = generate_edges('County')\n",
        "\n",
        "all_edges = set(town_edges + county_edges)\n",
        "edges_df = pd.DataFrame(list(all_edges), columns=['src', 'dst'])\n"
      ],
      "metadata": {
        "id": "5xFKZ64Go8wg"
      },
      "execution_count": 8,
      "outputs": []
    },
    {
      "cell_type": "code",
      "source": [],
      "metadata": {
        "id": "XIvEYKsOpHVZ"
      },
      "execution_count": null,
      "outputs": []
    }
  ]
}