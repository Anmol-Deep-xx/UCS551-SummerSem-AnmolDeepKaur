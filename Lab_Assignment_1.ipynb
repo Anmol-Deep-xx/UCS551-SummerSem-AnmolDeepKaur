{
  "nbformat": 4,
  "nbformat_minor": 0,
  "metadata": {
    "colab": {
      "provenance": []
    },
    "kernelspec": {
      "name": "python3",
      "display_name": "Python 3"
    },
    "language_info": {
      "name": "python"
    }
  },
  "cells": [
    {
      "cell_type": "markdown",
      "source": [
        "Q1. NumPy – Array Operations\n"
      ],
      "metadata": {
        "id": "9A2QQ8q1-iCl"
      }
    },
    {
      "cell_type": "code",
      "execution_count": 2,
      "metadata": {
        "colab": {
          "base_uri": "https://localhost:8080/"
        },
        "id": "iFKtx5j696yD",
        "outputId": "d1e9256e-f2bf-457a-9ab3-a698eb047cab"
      },
      "outputs": [
        {
          "output_type": "stream",
          "name": "stdout",
          "text": [
            "Original Array:\n",
            " [[54 57 74 77 77]\n",
            " [19 93 31 46 97]\n",
            " [80 98 98 22 68]\n",
            " [75 49 97 56 98]\n",
            " [91 47 35 87 82]]\n"
          ]
        }
      ],
      "source": [
        "import numpy as np\n",
        "\n",
        "np.random.seed(0)\n",
        "array = np.random.randint(10, 101, size=(5, 5))\n",
        "print(\"Original Array:\\n\", array)"
      ]
    },
    {
      "cell_type": "code",
      "source": [
        "even_mask = array % 2 == 0\n",
        "array_with_neg1 = np.where(even_mask, -1, array)\n",
        "print(\"\\nArray with even numbers replaced by -1:\\n\", array_with_neg1)"
      ],
      "metadata": {
        "colab": {
          "base_uri": "https://localhost:8080/"
        },
        "id": "mrvwoPFV-xp-",
        "outputId": "e2e0e618-418a-4e96-835a-44bd32e58a46"
      },
      "execution_count": 3,
      "outputs": [
        {
          "output_type": "stream",
          "name": "stdout",
          "text": [
            "\n",
            "Array with even numbers replaced by -1:\n",
            " [[-1 57 -1 77 77]\n",
            " [19 93 31 -1 97]\n",
            " [-1 -1 -1 -1 -1]\n",
            " [75 49 97 -1 -1]\n",
            " [91 47 35 87 -1]]\n"
          ]
        }
      ]
    },
    {
      "cell_type": "code",
      "source": [
        "row_sum = np.sum(array_with_neg1, axis=1)\n",
        "col_sum = np.sum(array_with_neg1, axis=0)\n",
        "row_mean = np.mean(array_with_neg1, axis=1)\n",
        "col_mean = np.mean(array_with_neg1, axis=0)\n",
        "\n",
        "print(\"\\nRow-wise Sum:\", row_sum)\n",
        "print(\"Column-wise Sum:\", col_sum)\n",
        "print(\"Row-wise Mean:\", row_mean)\n",
        "print(\"Column-wise Mean:\", col_mean)"
      ],
      "metadata": {
        "colab": {
          "base_uri": "https://localhost:8080/"
        },
        "id": "kYmbeM-_-2Jf",
        "outputId": "f4b6538b-5c4c-4709-e7bc-fcbea6353bfb"
      },
      "execution_count": 4,
      "outputs": [
        {
          "output_type": "stream",
          "name": "stdout",
          "text": [
            "\n",
            "Row-wise Sum: [209 239  -5 219 259]\n",
            "Column-wise Sum: [183 245 161 161 171]\n",
            "Row-wise Mean: [41.8 47.8 -1.  43.8 51.8]\n",
            "Column-wise Mean: [36.6 49.  32.2 32.2 34.2]\n"
          ]
        }
      ]
    },
    {
      "cell_type": "code",
      "source": [
        "flattened_sorted = np.sort(array_with_neg1.flatten())[::-1]\n",
        "print(\"\\nFlattened & Sorted Array (Descending):\\n\", flattened_sorted)"
      ],
      "metadata": {
        "colab": {
          "base_uri": "https://localhost:8080/"
        },
        "id": "LvMVhN1p-9A2",
        "outputId": "7715e805-51b0-42f6-d3fb-ebd394dbc9e2"
      },
      "execution_count": 5,
      "outputs": [
        {
          "output_type": "stream",
          "name": "stdout",
          "text": [
            "\n",
            "Flattened & Sorted Array (Descending):\n",
            " [97 97 93 91 87 77 77 75 57 49 47 35 31 19 -1 -1 -1 -1 -1 -1 -1 -1 -1 -1\n",
            " -1]\n"
          ]
        }
      ]
    },
    {
      "cell_type": "markdown",
      "source": [
        "Q2: Pandas – Data Handling & Analysis"
      ],
      "metadata": {
        "id": "vRZ5bJq9_HYu"
      }
    },
    {
      "cell_type": "code",
      "source": [
        "from google.colab import drive\n",
        "drive.mount('/content/drive')"
      ],
      "metadata": {
        "colab": {
          "base_uri": "https://localhost:8080/"
        },
        "id": "vAZCZiJL_Gf3",
        "outputId": "7ecc96d5-fa87-4edf-f729-1c6fb3b396f7"
      },
      "execution_count": 6,
      "outputs": [
        {
          "output_type": "stream",
          "name": "stdout",
          "text": [
            "Mounted at /content/drive\n"
          ]
        }
      ]
    },
    {
      "cell_type": "code",
      "source": [
        "import pandas as pd\n",
        "import matplotlib.pyplot as plt\n",
        "import seaborn as sns"
      ],
      "metadata": {
        "id": "h36UbWSdB_q0"
      },
      "execution_count": 7,
      "outputs": []
    },
    {
      "cell_type": "code",
      "source": [
        "file_path = '/content/drive/MyDrive/Colab Notebooks/StudentsPerformance.csv'\n",
        "df = pd.read_csv(file_path)"
      ],
      "metadata": {
        "id": "EJGiNpJjCNrh"
      },
      "execution_count": 9,
      "outputs": []
    },
    {
      "cell_type": "code",
      "source": [
        "print(\"Original Dataset (first 5 rows):\")\n",
        "print(df.head())"
      ],
      "metadata": {
        "colab": {
          "base_uri": "https://localhost:8080/"
        },
        "id": "s8-YgY5XDqxF",
        "outputId": "8fa80225-57e0-40fc-f5c3-50b71b57d858"
      },
      "execution_count": 16,
      "outputs": [
        {
          "output_type": "stream",
          "name": "stdout",
          "text": [
            "Original Dataset (first 5 rows):\n",
            "   gender race/ethnicity parental level of education         lunch  \\\n",
            "0  female        group B           bachelor's degree      standard   \n",
            "1  female        group C                some college      standard   \n",
            "2  female        group B             master's degree      standard   \n",
            "3    male        group A          associate's degree  free/reduced   \n",
            "4    male        group C                some college      standard   \n",
            "\n",
            "  test preparation course  math score  reading score  writing score  \\\n",
            "0                    none          72             72             74   \n",
            "1               completed          69             90             88   \n",
            "2                    none          90             95             93   \n",
            "3                    none          47             57             44   \n",
            "4                    none          76             78             75   \n",
            "\n",
            "   Overall_Score Result  \n",
            "0      72.666667   Pass  \n",
            "1      82.333333   Pass  \n",
            "2      92.666667   Pass  \n",
            "3      49.333333   Pass  \n",
            "4      76.333333   Pass  \n"
          ]
        }
      ]
    },
    {
      "cell_type": "code",
      "source": [
        "mean_scores = df[['math score', 'reading score', 'writing score']].mean()\n",
        "median_scores = df[['math score', 'reading score', 'writing score']].median()\n",
        "std_scores = df[['math score', 'reading score', 'writing score']].std()\n",
        "\n",
        "print(\"Mean:\\n\", mean_scores)\n",
        "print(\"\\nMedian:\\n\", median_scores)\n",
        "print(\"\\nStandard Deviation:\\n\", std_scores)"
      ],
      "metadata": {
        "colab": {
          "base_uri": "https://localhost:8080/"
        },
        "id": "tYxlsdnkCQhy",
        "outputId": "dd44f8b0-0c0f-43b9-a93e-8b521d710ccc"
      },
      "execution_count": 11,
      "outputs": [
        {
          "output_type": "stream",
          "name": "stdout",
          "text": [
            "Mean:\n",
            " math score       66.089\n",
            "reading score    69.169\n",
            "writing score    68.054\n",
            "dtype: float64\n",
            "\n",
            "Median:\n",
            " math score       66.0\n",
            "reading score    70.0\n",
            "writing score    69.0\n",
            "dtype: float64\n",
            "\n",
            "Standard Deviation:\n",
            " math score       15.163080\n",
            "reading score    14.600192\n",
            "writing score    15.195657\n",
            "dtype: float64\n"
          ]
        }
      ]
    },
    {
      "cell_type": "code",
      "source": [
        "df['Overall_Score'] = df[['math score', 'reading score', 'writing score']].mean(axis=1)\n"
      ],
      "metadata": {
        "id": "JdT5JECiC3Oe"
      },
      "execution_count": 12,
      "outputs": []
    },
    {
      "cell_type": "code",
      "source": [
        "df['Result'] = df.apply(lambda x: 'Pass' if (x['math score'] >= 40 and x['reading score'] >= 40 and x['writing score'] >= 40) else 'Fail', axis=1)\n"
      ],
      "metadata": {
        "id": "dsL8vUBTDXl8"
      },
      "execution_count": 15,
      "outputs": []
    },
    {
      "cell_type": "code",
      "source": [
        "print(\"\\nDataset with 'Overall_Score' and 'Result' columns (first 5 rows):\")\n",
        "print(df[['math score', 'reading score', 'writing score', 'Overall_Score', 'Result']].head())\n"
      ],
      "metadata": {
        "colab": {
          "base_uri": "https://localhost:8080/"
        },
        "id": "B3oSI7sXDyTG",
        "outputId": "86c973ce-2e35-4b8e-f110-9fe6f85e4a6b"
      },
      "execution_count": 17,
      "outputs": [
        {
          "output_type": "stream",
          "name": "stdout",
          "text": [
            "\n",
            "Dataset with 'Overall_Score' and 'Result' columns (first 5 rows):\n",
            "   math score  reading score  writing score  Overall_Score Result\n",
            "0          72             72             74      72.666667   Pass\n",
            "1          69             90             88      82.333333   Pass\n",
            "2          90             95             93      92.666667   Pass\n",
            "3          47             57             44      49.333333   Pass\n",
            "4          76             78             75      76.333333   Pass\n"
          ]
        }
      ]
    },
    {
      "cell_type": "code",
      "source": [
        "grouped = df.groupby(['gender', 'parental level of education'])[['math score', 'reading score', 'writing score']].mean()\n",
        "print(\"\\nGroup-wise average scores:\\n\", grouped)\n"
      ],
      "metadata": {
        "colab": {
          "base_uri": "https://localhost:8080/"
        },
        "id": "fDwZzGInC_vm",
        "outputId": "829ca835-fe68-4203-e65b-84e8dbad8d19"
      },
      "execution_count": 13,
      "outputs": [
        {
          "output_type": "stream",
          "name": "stdout",
          "text": [
            "\n",
            "Group-wise average scores:\n",
            "                                     math score  reading score  writing score\n",
            "gender parental level of education                                          \n",
            "female associate's degree            65.250000      74.120690      74.000000\n",
            "       bachelor's degree             68.349206      77.285714      78.380952\n",
            "       high school                   59.351064      68.202128      66.691489\n",
            "       master's degree               66.500000      76.805556      77.638889\n",
            "       some college                  65.406780      73.550847      74.050847\n",
            "       some high school              59.296703      69.109890      68.285714\n",
            "male   associate's degree            70.764151      67.433962      65.405660\n",
            "       bachelor's degree             70.581818      68.090909      67.654545\n",
            "       high school                   64.705882      61.480392      58.539216\n",
            "       master's degree               74.826087      73.130435      72.608696\n",
            "       some college                  69.009259      64.990741      63.148148\n",
            "       some high school              67.840909      64.693182      61.375000\n"
          ]
        }
      ]
    },
    {
      "cell_type": "code",
      "source": [
        "avg_math_scores = df.groupby('test preparation course')['math score'].mean().reset_index()\n",
        "\n",
        "sns.barplot(x='test preparation course', y='math score', data=avg_math_scores)\n",
        "plt.title(\"Average Math Score by Test Preparation Course\")\n",
        "plt.ylabel(\"Average Math Score\")\n",
        "plt.xlabel(\"Test Preparation Course\")\n",
        "plt.show()"
      ],
      "metadata": {
        "colab": {
          "base_uri": "https://localhost:8080/",
          "height": 472
        },
        "id": "iHOxKIWEDHwa",
        "outputId": "099223bc-b3c4-4cb1-bf8d-c5ec5c3a20e4"
      },
      "execution_count": 14,
      "outputs": [
        {
          "output_type": "display_data",
          "data": {
            "text/plain": [
              "<Figure size 640x480 with 1 Axes>"
            ],
            "image/png": "[encoded data removed]"
          },
          "metadata": {}
        }
      ]
    },
    {
      "cell_type": "markdown",
      "source": [
        "Q3: SciPy – Optimization and Linear Algebra"
      ],
      "metadata": {
        "id": "zgIGlhrwD0cS"
      }
    },
    {
      "cell_type": "code",
      "source": [
        "import numpy as np\n",
        "from scipy import linalg, optimize\n",
        "import matplotlib.pyplot as plt\n"
      ],
      "metadata": {
        "id": "f2cTZ3B8DSRc"
      },
      "execution_count": 18,
      "outputs": []
    },
    {
      "cell_type": "code",
      "source": [
        "A = np.array([[3, 2],\n",
        "              [4, -1]])\n",
        "\n",
        "b = np.array([16, 9])\n",
        "\n",
        "solution = linalg.solve(A, b)\n",
        "\n",
        "print(\"Solution to the system of equations:\")\n",
        "print(f\"x = {solution[0]:.2f}, y = {solution[1]:.2f}\")"
      ],
      "metadata": {
        "colab": {
          "base_uri": "https://localhost:8080/"
        },
        "id": "TwIj-dgZEMjY",
        "outputId": "1d5a1b5b-c5ed-4f7d-fae3-97459b7f4d81"
      },
      "execution_count": 19,
      "outputs": [
        {
          "output_type": "stream",
          "name": "stdout",
          "text": [
            "Solution to the system of equations:\n",
            "x = 3.09, y = 3.36\n"
          ]
        }
      ]
    },
    {
      "cell_type": "code",
      "source": [
        "f = lambda x: (x - 3)**2 + 2\n",
        "\n",
        "result = optimize.minimize(f, x0=0)\n",
        "\n",
        "print(\"\\nOptimization Result:\")\n",
        "print(f\"Minimum at x = {result.x[0]:.4f}\")\n",
        "print(f\"Minimum value f(x) = {result.fun:.4f}\")\n"
      ],
      "metadata": {
        "colab": {
          "base_uri": "https://localhost:8080/"
        },
        "id": "JtYsw_lOEjmZ",
        "outputId": "efb60621-7b8f-49a5-e53c-0614812dc5c2"
      },
      "execution_count": 23,
      "outputs": [
        {
          "output_type": "stream",
          "name": "stdout",
          "text": [
            "\n",
            "Optimization Result:\n",
            "Minimum at x = 3.0000\n",
            "Minimum value f(x) = 2.0000\n"
          ]
        }
      ]
    },
    {
      "cell_type": "code",
      "source": [
        "x_vals = np.linspace(-2, 8, 400)\n",
        "y_vals = f(x_vals)\n",
        "\n",
        "plt.figure(figsize=(8, 5))\n",
        "plt.plot(x_vals, y_vals, label='f(x) = (x - 3)^2 + 2')\n",
        "plt.plot(result.x, result.fun, 'ro', label='Minimum')\n",
        "plt.title(\"Function Minimization\")\n",
        "plt.xlabel(\"x\")\n",
        "plt.ylabel(\"f(x)\")\n",
        "plt.legend()\n",
        "plt.grid(True)\n",
        "plt.show()"
      ],
      "metadata": {
        "colab": {
          "base_uri": "https://localhost:8080/",
          "height": 448
        },
        "id": "DqyHuRidFAoL",
        "outputId": "372565d5-36a4-4a64-9efe-a7a277aedecc"
      },
      "execution_count": 24,
      "outputs": [
        {
          "output_type": "display_data",
          "data": {
            "text/plain": [
              "<Figure size 800x500 with 1 Axes>"
            ],
            "image/png": "[encoded data removed]"
          },
          "metadata": {}
        }
      ]
    },
    {
      "cell_type": "markdown",
      "source": [
        "Q4. Implement Logistic Regression and kNN on the Iris dataset (Scikit-learn)."
      ],
      "metadata": {
        "id": "37Trp6llFZ9-"
      }
    },
    {
      "cell_type": "code",
      "source": [
        "from sklearn.datasets import load_iris\n",
        "from sklearn.model_selection import train_test_split\n",
        "from sklearn.linear_model import LogisticRegression\n",
        "from sklearn.neighbors import KNeighborsClassifier\n",
        "from sklearn.metrics import accuracy_score, confusion_matrix, classification_report\n",
        "import seaborn as sns\n",
        "import matplotlib.pyplot as plt\n"
      ],
      "metadata": {
        "id": "ZsotiJtnFPOd"
      },
      "execution_count": 25,
      "outputs": []
    },
    {
      "cell_type": "code",
      "source": [
        "iris = load_iris()\n",
        "X = iris.data\n",
        "y = iris.target"
      ],
      "metadata": {
        "id": "Z54Pr-3_FfRn"
      },
      "execution_count": 26,
      "outputs": []
    },
    {
      "cell_type": "code",
      "source": [
        "X_train, X_test, y_train, y_test = train_test_split(X, y, test_size=0.2, random_state=42)\n"
      ],
      "metadata": {
        "id": "wdyLztDfFhAk"
      },
      "execution_count": 27,
      "outputs": []
    },
    {
      "cell_type": "code",
      "source": [
        "log_model = LogisticRegression(max_iter=200)\n",
        "log_model.fit(X_train, y_train)\n",
        "y_pred_log = log_model.predict(X_test)\n"
      ],
      "metadata": {
        "id": "N49EtEOuFjIF"
      },
      "execution_count": 28,
      "outputs": []
    },
    {
      "cell_type": "code",
      "source": [
        "knn_model = KNeighborsClassifier(n_neighbors=5)\n",
        "knn_model.fit(X_train, y_train)\n",
        "y_pred_knn = knn_model.predict(X_test)\n"
      ],
      "metadata": {
        "id": "GlwUrw7pFl4C"
      },
      "execution_count": 29,
      "outputs": []
    },
    {
      "cell_type": "code",
      "source": [
        "def evaluate_model(y_true, y_pred, model_name):\n",
        "    print(f\"\\n--- {model_name} ---\")\n",
        "    print(\"Accuracy:\", accuracy_score(y_true, y_pred))\n",
        "    print(\"Confusion Matrix:\\n\", confusion_matrix(y_true, y_pred))\n",
        "    print(\"Classification Report:\\n\", classification_report(y_true, y_pred))\n"
      ],
      "metadata": {
        "id": "_gQLFz9YFoQs"
      },
      "execution_count": 30,
      "outputs": []
    },
    {
      "cell_type": "code",
      "source": [
        "evaluate_model(y_test, y_pred_log, \"Logistic Regression\")\n"
      ],
      "metadata": {
        "colab": {
          "base_uri": "https://localhost:8080/"
        },
        "id": "IWiGH78MFsgM",
        "outputId": "39aa9f2f-3dab-454f-96b2-154cd62b711b"
      },
      "execution_count": 31,
      "outputs": [
        {
          "output_type": "stream",
          "name": "stdout",
          "text": [
            "\n",
            "--- Logistic Regression ---\n",
            "Accuracy: 1.0\n",
            "Confusion Matrix:\n",
            " [[10  0  0]\n",
            " [ 0  9  0]\n",
            " [ 0  0 11]]\n",
            "Classification Report:\n",
            "               precision    recall  f1-score   support\n",
            "\n",
            "           0       1.00      1.00      1.00        10\n",
            "           1       1.00      1.00      1.00         9\n",
            "           2       1.00      1.00      1.00        11\n",
            "\n",
            "    accuracy                           1.00        30\n",
            "   macro avg       1.00      1.00      1.00        30\n",
            "weighted avg       1.00      1.00      1.00        30\n",
            "\n"
          ]
        }
      ]
    },
    {
      "cell_type": "code",
      "source": [
        "evaluate_model(y_test, y_pred_knn, \"k-Nearest Neighbors\")\n"
      ],
      "metadata": {
        "colab": {
          "base_uri": "https://localhost:8080/"
        },
        "id": "_Wxnzl6jFuf5",
        "outputId": "e650b99c-8742-4bbf-94ec-e91dd618452d"
      },
      "execution_count": 32,
      "outputs": [
        {
          "output_type": "stream",
          "name": "stdout",
          "text": [
            "\n",
            "--- k-Nearest Neighbors ---\n",
            "Accuracy: 1.0\n",
            "Confusion Matrix:\n",
            " [[10  0  0]\n",
            " [ 0  9  0]\n",
            " [ 0  0 11]]\n",
            "Classification Report:\n",
            "               precision    recall  f1-score   support\n",
            "\n",
            "           0       1.00      1.00      1.00        10\n",
            "           1       1.00      1.00      1.00         9\n",
            "           2       1.00      1.00      1.00        11\n",
            "\n",
            "    accuracy                           1.00        30\n",
            "   macro avg       1.00      1.00      1.00        30\n",
            "weighted avg       1.00      1.00      1.00        30\n",
            "\n"
          ]
        }
      ]
    },
    {
      "cell_type": "code",
      "source": [],
      "metadata": {
        "id": "pth6OL2EFw8z"
      },
      "execution_count": null,
      "outputs": []
    }
  ]
}