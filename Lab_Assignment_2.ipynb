{
  "nbformat": 4,
  "nbformat_minor": 0,
  "metadata": {
    "colab": {
      "provenance": []
    },
    "kernelspec": {
      "name": "python3",
      "display_name": "Python 3"
    },
    "language_info": {
      "name": "python"
    }
  },
  "cells": [
    {
      "cell_type": "markdown",
      "source": [
        "Q1. Web Scraping with BeautifulSoup"
      ],
      "metadata": {
        "id": "YlPccN8yJsJE"
      }
    },
    {
      "cell_type": "code",
      "execution_count": 1,
      "metadata": {
        "colab": {
          "base_uri": "https://localhost:8080/"
        },
        "id": "hkQHmXTSJlt2",
        "outputId": "192f84fd-b2da-4480-d12f-e7790fbec8f8"
      },
      "outputs": [
        {
          "output_type": "stream",
          "name": "stdout",
          "text": [
            "Requirement already satisfied: requests in /usr/local/lib/python3.11/dist-packages (2.32.3)\n",
            "Requirement already satisfied: charset-normalizer<4,>=2 in /usr/local/lib/python3.11/dist-packages (from requests) (3.4.2)\n",
            "Requirement already satisfied: idna<4,>=2.5 in /usr/local/lib/python3.11/dist-packages (from requests) (3.10)\n",
            "Requirement already satisfied: urllib3<3,>=1.21.1 in /usr/local/lib/python3.11/dist-packages (from requests) (2.4.0)\n",
            "Requirement already satisfied: certifi>=2017.4.17 in /usr/local/lib/python3.11/dist-packages (from requests) (2025.6.15)\n",
            "Requirement already satisfied: beautifulsoup4 in /usr/local/lib/python3.11/dist-packages (4.13.4)\n",
            "Requirement already satisfied: soupsieve>1.2 in /usr/local/lib/python3.11/dist-packages (from beautifulsoup4) (2.7)\n",
            "Requirement already satisfied: typing-extensions>=4.0.0 in /usr/local/lib/python3.11/dist-packages (from beautifulsoup4) (4.14.0)\n"
          ]
        }
      ],
      "source": [
        "!pip install requests\n",
        "!pip install beautifulsoup4\n"
      ]
    },
    {
      "cell_type": "code",
      "source": [
        "import requests\n",
        "from bs4 import BeautifulSoup\n",
        "import pandas as pd"
      ],
      "metadata": {
        "id": "mSpyrYyYKK0C"
      },
      "execution_count": 2,
      "outputs": []
    },
    {
      "cell_type": "code",
      "source": [
        "url = \"https://books.toscrape.com/\""
      ],
      "metadata": {
        "id": "9ybmXf-FKPYA"
      },
      "execution_count": 3,
      "outputs": []
    },
    {
      "cell_type": "code",
      "source": [
        "response = requests.get(url)\n",
        "soup = BeautifulSoup(response.content, 'html.parser')\n"
      ],
      "metadata": {
        "id": "HWlAnRJHKSEE"
      },
      "execution_count": 4,
      "outputs": []
    },
    {
      "cell_type": "code",
      "source": [
        "books = soup.find_all('article', class_='product_pod')\n"
      ],
      "metadata": {
        "id": "Mi7Q0-YqKU9q"
      },
      "execution_count": 5,
      "outputs": []
    },
    {
      "cell_type": "code",
      "source": [
        "titles = []\n",
        "prices = []\n",
        "\n",
        "for book in books[:10]:\n",
        "    title = book.h3.a['title']\n",
        "    price = book.find('p', class_='price_color').text.strip()\n",
        "\n",
        "    titles.append(title)\n",
        "    prices.append(price)"
      ],
      "metadata": {
        "id": "OYPqC4aPKXL1"
      },
      "execution_count": 7,
      "outputs": []
    },
    {
      "cell_type": "code",
      "source": [
        "df = pd.DataFrame({\n",
        "    'Title': titles,\n",
        "    'Price': prices\n",
        "})\n"
      ],
      "metadata": {
        "id": "CfHtnQ49Ka0A"
      },
      "execution_count": 8,
      "outputs": []
    },
    {
      "cell_type": "code",
      "source": [
        "print(\"Scraped Book Data:\")\n",
        "print(df)"
      ],
      "metadata": {
        "colab": {
          "base_uri": "https://localhost:8080/"
        },
        "id": "OlpRqh04KglX",
        "outputId": "952e3406-7f1b-4617-ea54-19190957bc21"
      },
      "execution_count": 9,
      "outputs": [
        {
          "output_type": "stream",
          "name": "stdout",
          "text": [
            "Scraped Book Data:\n",
            "                                               Title   Price\n",
            "0                               A Light in the Attic  £51.77\n",
            "1                                 Tipping the Velvet  £53.74\n",
            "2                                         Soumission  £50.10\n",
            "3                                      Sharp Objects  £47.82\n",
            "4              Sapiens: A Brief History of Humankind  £54.23\n",
            "5                                    The Requiem Red  £22.65\n",
            "6  The Dirty Little Secrets of Getting Your Dream...  £33.34\n",
            "7  The Coming Woman: A Novel Based on the Life of...  £17.93\n",
            "8  The Boys in the Boat: Nine Americans and Their...  £22.60\n",
            "9                                    The Black Maria  £52.15\n"
          ]
        }
      ]
    },
    {
      "cell_type": "code",
      "source": [
        "df.to_csv('books_top_10.csv', index=False)\n",
        "print(\"\\nSaved to books_top_10.csv\")"
      ],
      "metadata": {
        "colab": {
          "base_uri": "https://localhost:8080/"
        },
        "id": "8j_hl-MkKiNq",
        "outputId": "29e37a62-0600-4cc4-e27f-19a45196d0f7"
      },
      "execution_count": 10,
      "outputs": [
        {
          "output_type": "stream",
          "name": "stdout",
          "text": [
            "\n",
            "Saved to books_top_10.csv\n"
          ]
        }
      ]
    },
    {
      "cell_type": "code",
      "source": [
        "from google.colab import files\n",
        "files.download(\"books_top_10.csv\")"
      ],
      "metadata": {
        "colab": {
          "base_uri": "https://localhost:8080/",
          "height": 17
        },
        "id": "CnIrkoBGKmce",
        "outputId": "a78e1cca-eaf8-43cc-f9e3-149c101c9528"
      },
      "execution_count": 11,
      "outputs": [
        {
          "output_type": "display_data",
          "data": {
            "text/plain": [
              "<IPython.core.display.Javascript object>"
            ],
            "application/javascript": [
              "\n",
              "    async function download(id, filename, size) {\n",
              "      if (!google.colab.kernel.accessAllowed) {\n",
              "        return;\n",
              "      }\n",
              "      const div = document.createElement('div');\n",
              "      const label = document.createElement('label');\n",
              "      label.textContent = `Downloading \"${filename}\": `;\n",
              "      div.appendChild(label);\n",
              "      const progress = document.createElement('progress');\n",
              "      progress.max = size;\n",
              "      div.appendChild(progress);\n",
              "      document.body.appendChild(div);\n",
              "\n",
              "      const buffers = [];\n",
              "      let downloaded = 0;\n",
              "\n",
              "      const channel = await google.colab.kernel.comms.open(id);\n",
              "      // Send a message to notify the kernel that we're ready.\n",
              "      channel.send({})\n",
              "\n",
              "      for await (const message of channel.messages) {\n",
              "        // Send a message to notify the kernel that we're ready.\n",
              "        channel.send({})\n",
              "        if (message.buffers) {\n",
              "          for (const buffer of message.buffers) {\n",
              "            buffers.push(buffer);\n",
              "            downloaded += buffer.byteLength;\n",
              "            progress.value = downloaded;\n",
              "          }\n",
              "        }\n",
              "      }\n",
              "      const blob = new Blob(buffers, {type: 'application/binary'});\n",
              "      const a = document.createElement('a');\n",
              "      a.href = window.URL.createObjectURL(blob);\n",
              "      a.download = filename;\n",
              "      div.appendChild(a);\n",
              "      a.click();\n",
              "      div.remove();\n",
              "    }\n",
              "  "
            ]
          },
          "metadata": {}
        },
        {
          "output_type": "display_data",
          "data": {
            "text/plain": [
              "<IPython.core.display.Javascript object>"
            ],
            "application/javascript": [
              "download(\"download_01c56dc6-4ed2-422f-8e34-0518942d6b67\", \"books_top_10.csv\", 463)"
            ]
          },
          "metadata": {}
        }
      ]
    },
    {
      "cell_type": "markdown",
      "source": [
        "Q2: API-Based News Collection"
      ],
      "metadata": {
        "id": "3C-O_iB1K9dc"
      }
    },
    {
      "cell_type": "code",
      "source": [
        "import requests\n",
        "import json"
      ],
      "metadata": {
        "id": "4IVxwZ_LK2rU"
      },
      "execution_count": 12,
      "outputs": []
    },
    {
      "cell_type": "code",
      "source": [
        "api_key = \"dafc74ceeec64052aadfc9f7caa4fb92\""
      ],
      "metadata": {
        "id": "86XWZ1P5Llsm"
      },
      "execution_count": 38,
      "outputs": []
    },
    {
      "cell_type": "code",
      "source": [
        "url = \"https://newsapi.org/v2/everything\"\n",
        "params = {\n",
        "    'apiKey': api_key,\n",
        "    'q': 'technology',\n",
        "    'language': 'en',\n",
        "    'pageSize': 10,\n",
        "}\n"
      ],
      "metadata": {
        "id": "CEujol54Lrv_"
      },
      "execution_count": 40,
      "outputs": []
    },
    {
      "cell_type": "code",
      "source": [
        "response = requests.get(url, params=params)\n",
        "data = response.json()"
      ],
      "metadata": {
        "id": "jyiQqGWrLvNo"
      },
      "execution_count": 35,
      "outputs": []
    },
    {
      "cell_type": "code",
      "source": [
        "if data['status'] == 'ok':\n",
        "    results = []\n",
        "    for article in data['articles']:\n",
        "        results.append({\n",
        "            'title': article['title'],\n",
        "            'source': article['source']['name'],\n",
        "            'publishedAt': article['publishedAt']\n",
        "        })\n",
        "\n",
        "    with open('top_tech_headlines_india.json', 'w') as f:\n",
        "        json.dump(results, f, indent=4)\n",
        "\n",
        "    print(\"Top 10 Technology Headlines in India:\\n\")\n",
        "    for i, item in enumerate(results, 1):\n",
        "        print(f\"{i}. {item['title']} ({item['source']}) — {item['publishedAt']}\")\n",
        "\n",
        "    print(\"\\nSaved to 'top_tech_headlines_india.json'\")\n",
        "else:\n",
        "    print(\"Error:\", data.get('message', 'Something went wrong'))"
      ],
      "metadata": {
        "colab": {
          "base_uri": "https://localhost:8080/"
        },
        "id": "-VVDRJBnN6Zc",
        "outputId": "56f32b52-f3a9-4019-de53-e29495768f04"
      },
      "execution_count": 42,
      "outputs": [
        {
          "output_type": "stream",
          "name": "stdout",
          "text": [
            "Top 10 Technology Headlines in India:\n",
            "\n",
            "\n",
            "Saved to 'top_tech_headlines_india.json'\n"
          ]
        }
      ]
    },
    {
      "cell_type": "code",
      "source": [
        "from google.colab import files\n",
        "files.download('top_tech_headlines_india.json')\n"
      ],
      "metadata": {
        "colab": {
          "base_uri": "https://localhost:8080/",
          "height": 17
        },
        "id": "7fACvQkOLzh0",
        "outputId": "a8535638-aa8b-4d14-f257-eb6fd2dcbe21"
      },
      "execution_count": 43,
      "outputs": [
        {
          "output_type": "display_data",
          "data": {
            "text/plain": [
              "<IPython.core.display.Javascript object>"
            ],
            "application/javascript": [
              "\n",
              "    async function download(id, filename, size) {\n",
              "      if (!google.colab.kernel.accessAllowed) {\n",
              "        return;\n",
              "      }\n",
              "      const div = document.createElement('div');\n",
              "      const label = document.createElement('label');\n",
              "      label.textContent = `Downloading \"${filename}\": `;\n",
              "      div.appendChild(label);\n",
              "      const progress = document.createElement('progress');\n",
              "      progress.max = size;\n",
              "      div.appendChild(progress);\n",
              "      document.body.appendChild(div);\n",
              "\n",
              "      const buffers = [];\n",
              "      let downloaded = 0;\n",
              "\n",
              "      const channel = await google.colab.kernel.comms.open(id);\n",
              "      // Send a message to notify the kernel that we're ready.\n",
              "      channel.send({})\n",
              "\n",
              "      for await (const message of channel.messages) {\n",
              "        // Send a message to notify the kernel that we're ready.\n",
              "        channel.send({})\n",
              "        if (message.buffers) {\n",
              "          for (const buffer of message.buffers) {\n",
              "            buffers.push(buffer);\n",
              "            downloaded += buffer.byteLength;\n",
              "            progress.value = downloaded;\n",
              "          }\n",
              "        }\n",
              "      }\n",
              "      const blob = new Blob(buffers, {type: 'application/binary'});\n",
              "      const a = document.createElement('a');\n",
              "      a.href = window.URL.createObjectURL(blob);\n",
              "      a.download = filename;\n",
              "      div.appendChild(a);\n",
              "      a.click();\n",
              "      div.remove();\n",
              "    }\n",
              "  "
            ]
          },
          "metadata": {}
        },
        {
          "output_type": "display_data",
          "data": {
            "text/plain": [
              "<IPython.core.display.Javascript object>"
            ],
            "application/javascript": [
              "download(\"download_7b3d0256-87bf-4592-a018-71ddf2c043a8\", \"top_tech_headlines_india.json\", 2)"
            ]
          },
          "metadata": {}
        }
      ]
    },
    {
      "cell_type": "markdown",
      "source": [
        "Q3: Weather Data Collection (OpenWeather API)"
      ],
      "metadata": {
        "id": "UQHL9aeIPhuF"
      }
    },
    {
      "cell_type": "code",
      "source": [
        "!pip install requests\n",
        "import requests\n",
        "import pandas as pd\n",
        "import matplotlib.pyplot as plt"
      ],
      "metadata": {
        "colab": {
          "base_uri": "https://localhost:8080/"
        },
        "id": "eZ-cFbQGL16T",
        "outputId": "a7642197-afb3-4729-b5bd-8e704574ce79"
      },
      "execution_count": 3,
      "outputs": [
        {
          "output_type": "stream",
          "name": "stdout",
          "text": [
            "Requirement already satisfied: requests in /usr/local/lib/python3.11/dist-packages (2.32.3)\n",
            "Requirement already satisfied: charset-normalizer<4,>=2 in /usr/local/lib/python3.11/dist-packages (from requests) (3.4.2)\n",
            "Requirement already satisfied: idna<4,>=2.5 in /usr/local/lib/python3.11/dist-packages (from requests) (3.10)\n",
            "Requirement already satisfied: urllib3<3,>=1.21.1 in /usr/local/lib/python3.11/dist-packages (from requests) (2.4.0)\n",
            "Requirement already satisfied: certifi>=2017.4.17 in /usr/local/lib/python3.11/dist-packages (from requests) (2025.6.15)\n"
          ]
        }
      ]
    },
    {
      "cell_type": "code",
      "source": [
        "api_key = \"5a48c03b1032e144007d174791ac4892\""
      ],
      "metadata": {
        "id": "X9RWG239L48X"
      },
      "execution_count": 4,
      "outputs": []
    },
    {
      "cell_type": "code",
      "source": [
        "cities = [\"Delhi\", \"Mumbai\", \"Kolkata\", \"Chennai\", \"Bangalore\"]\n"
      ],
      "metadata": {
        "id": "sAPr8h3uIint"
      },
      "execution_count": 5,
      "outputs": []
    },
    {
      "cell_type": "code",
      "source": [
        "url = \"https://api.openweathermap.org/data/2.5/weather\"\n"
      ],
      "metadata": {
        "id": "DzWW344dIn_u"
      },
      "execution_count": 6,
      "outputs": []
    },
    {
      "cell_type": "code",
      "source": [
        "weather_data = []\n",
        "\n",
        "for city in cities:\n",
        "    params = {\n",
        "        'q': city + \",IN\",\n",
        "        'appid': api_key,\n",
        "        'units': 'metric'  # Get temperature in Celsius\n",
        "    }\n",
        "\n",
        "    response = requests.get(url, params=params)\n",
        "    data = response.json()\n",
        "\n",
        "    if response.status_code == 200:\n",
        "        weather_data.append({\n",
        "            'City': city,\n",
        "            'Temperature (°C)': data['main']['temp'],\n",
        "            'Humidity (%)': data['main']['humidity'],\n",
        "            'Condition': data['weather'][0]['description'].title()\n",
        "        })\n",
        "    else:\n",
        "        print(f\"Failed to fetch data for {city}: {data.get('message', 'Unknown error')}\")\n"
      ],
      "metadata": {
        "id": "FCnPKrjUIquf"
      },
      "execution_count": 7,
      "outputs": []
    },
    {
      "cell_type": "code",
      "source": [
        "df = pd.DataFrame(weather_data)"
      ],
      "metadata": {
        "id": "fzCKaBpYIy6e"
      },
      "execution_count": 8,
      "outputs": []
    },
    {
      "cell_type": "code",
      "source": [
        "print(\"\\n🌤️ Current Weather in Selected Indian Cities:\\n\")\n",
        "print(df)"
      ],
      "metadata": {
        "colab": {
          "base_uri": "https://localhost:8080/"
        },
        "id": "FIor3byqI5jR",
        "outputId": "2e136c16-2b77-4b0e-c981-1088c43dc971"
      },
      "execution_count": 9,
      "outputs": [
        {
          "output_type": "stream",
          "name": "stdout",
          "text": [
            "\n",
            "🌤️ Current Weather in Selected Indian Cities:\n",
            "\n",
            "        City  Temperature (°C)  Humidity (%)         Condition\n",
            "0      Delhi             30.05            79              Mist\n",
            "1     Mumbai             26.99            89   Overcast Clouds\n",
            "2    Kolkata             27.97            94              Haze\n",
            "3    Chennai             27.11            92              Mist\n",
            "4  Bangalore             21.73            87  Scattered Clouds\n"
          ]
        }
      ]
    },
    {
      "cell_type": "code",
      "source": [
        "plt.figure(figsize=(8, 5))\n",
        "plt.bar(df['City'], df['Temperature (°C)'], color='skyblue')\n",
        "plt.title(\"🌡️ Temperature in Indian Cities\")\n",
        "plt.xlabel(\"City\")\n",
        "plt.ylabel(\"Temperature (°C)\")\n",
        "plt.grid(axis='y', linestyle='--', alpha=0.7)\n",
        "plt.show()"
      ],
      "metadata": {
        "colab": {
          "base_uri": "https://localhost:8080/",
          "height": 503
        },
        "id": "puHO3xmLI8dB",
        "outputId": "b8547cf7-0f92-4c50-cbdb-e77b7083560c"
      },
      "execution_count": 10,
      "outputs": [
        {
          "output_type": "stream",
          "name": "stderr",
          "text": [
            "/usr/local/lib/python3.11/dist-packages/IPython/core/pylabtools.py:151: UserWarning: Glyph 127777 (\\N{THERMOMETER}) missing from font(s) DejaVu Sans.\n",
            "  fig.canvas.print_figure(bytes_io, **kw)\n"
          ]
        },
        {
          "output_type": "display_data",
          "data": {
            "text/plain": [
              "<Figure size 800x500 with 1 Axes>"
            ],
            "image/png": "[encoded data removed]"
          },
          "metadata": {}
        }
      ]
    },
    {
      "cell_type": "markdown",
      "source": [
        "Q4. Annotate an image and text Using CVAT (Computer Vision Annotation\n",
        "Tool) and Labelbox respectively."
      ],
      "metadata": {
        "id": "7cMEQxyzJGN4"
      }
    },
    {
      "cell_type": "code",
      "source": [],
      "metadata": {
        "id": "x1-xd4-5JAWg"
      },
      "execution_count": null,
      "outputs": []
    }
  ]
}